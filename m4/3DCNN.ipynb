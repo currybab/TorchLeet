{
 "cells": [
  {
   "cell_type": "markdown",
   "metadata": {},
   "source": [
    "# Problem: Train a 3D CNN network for segmenting CT images\n",
    "\n",
    "### Problem Statement\n",
    "\n",
    "You are tasked with employing and evaluating a 3D CNN model in Pytorch for semantic segmentation on synthetically generated CT images.\n",
    "Your goal is to review the input and label data shapes. Next, define a MedCNN model class with a `forward` method that emulates a encode-decoder architecture with appropriate input and output channels based on the input shapes.\n",
    "\n",
    "### Requirements\n",
    "\n",
    "1. **Implement** a MedCNN model class with Conv3D and ConvTranspose3d for downsampling and upsampling respectively.\n",
    "2. **Define** Dice loss for the problem.\n",
    "3. **Perform** transfer learning from a ResNet18 - a common strategy for custom architectures.\n",
    "4. **Train** the model for 5 epochs.\n",
    "\n",
    "### Constraints\n",
    "\n",
    "- Use `Pytorch` in-built convolution layers\n",
    "- Ensure, there is a segmentation head at the end of the network\n",
    "\n",
    "<details>\n",
    "  <summary>💡 Hint</summary>\n",
    "  - Strip off the `Avgpooling` and linear layers from ResNet18 using `list(resnet_model.children())[:-2]`\n",
    "  <br>\n",
    "  - [Conv3D](https://pytorch.org/docs/stable/generated/torch.nn.Conv3d.html)\n",
    "  <br>\n",
    "  - [ConvTranspose3D](https://pytorch.org/docs/stable/generated/torch.nn.ConvTranspose3d.html)\n",
    "  <br>\n",
    "  - [Forum discussion on model.children](https://discuss.pytorch.org/t/module-children-vs-module-modules/4551)\n",
    "</details>\n"
   ]
  },
  {
   "cell_type": "code",
   "execution_count": 1,
   "metadata": {},
   "outputs": [
    {
     "name": "stderr",
     "output_type": "stream",
     "text": [
      "/opt/homebrew/lib/python3.10/site-packages/tqdm/auto.py:22: TqdmWarning: IProgress not found. Please update jupyter and ipywidgets. See https://ipywidgets.readthedocs.io/en/stable/user_install.html\n",
      "  from .autonotebook import tqdm as notebook_tqdm\n"
     ]
    }
   ],
   "source": [
    "import torch\n",
    "import torch.nn as nn\n",
    "import torch.optim as optim\n",
    "import torchvision\n",
    "import torchvision.transforms as transforms"
   ]
  },
  {
   "cell_type": "code",
   "execution_count": 2,
   "metadata": {},
   "outputs": [
    {
     "name": "stdout",
     "output_type": "stream",
     "text": [
      "CT images (train examples) shape: torch.Size([100, 10, 3, 256, 256])\n",
      "Segmentation binary masks (labels) shape: torch.Size([100, 10, 1, 256, 256])\n"
     ]
    }
   ],
   "source": [
    "# Generate synthetic CT-scan data (batches, slices, RGB) and associated segmentation masks\n",
    "torch.manual_seed(42)\n",
    "batch = 100\n",
    "num_slices = 10\n",
    "channels = 3\n",
    "width = 256\n",
    "height = 256\n",
    "\n",
    "ct_images = torch.randn(size=(batch, num_slices, channels, width, height))\n",
    "segmentation_masks = (\n",
    "    torch.randn(size=(batch, num_slices, 1, width, height)) > 0\n",
    ").float()\n",
    "\n",
    "print(f\"CT images (train examples) shape: {ct_images.shape}\")\n",
    "print(f\"Segmentation binary masks (labels) shape: {segmentation_masks.shape}\")"
   ]
  },
  {
   "cell_type": "code",
   "execution_count": 3,
   "metadata": {},
   "outputs": [],
   "source": [
    "# Define the MedCNN class and its forward method\n",
    "class MedCNN(nn.Module):\n",
    "    def __init__(self, backbone, out_channel=1):\n",
    "        super(MedCNN, self).__init__()\n",
    "        self.backbone = backbone\n",
    "\n",
    "        # TODO: Add Downsample convolutional layers\n",
    "        self.conv1 = nn.Conv3d(512, 256, kernel_size=3, padding=1)\n",
    "        self.conv2 = nn.Conv3d(256, 128, kernel_size=3, padding=1)\n",
    "\n",
    "        # TODO: Add Upsample convolutional layers\n",
    "        self.conv_transpose1 = nn.ConvTranspose3d(\n",
    "            128, 64, kernel_size=(1, 4, 4), stride=(1, 4, 4)\n",
    "        )\n",
    "        self.conv_transpose2 = nn.ConvTranspose3d(\n",
    "            64, 16, kernel_size=(1, 8, 8), stride=(1, 8, 8)\n",
    "        )\n",
    "\n",
    "        # TODO: Final convolution layer from 16 to 1 channel\n",
    "        self.conv3 = nn.Conv3d(16, out_channel, kernel_size=1)\n",
    "\n",
    "        self.relu = nn.ReLU()\n",
    "\n",
    "    def forward(self, x):\n",
    "        b, d, c, w, h = x.size()  # Input size: [B, D, C, W, H]\n",
    "        print(f\"Input shape [B, D, C, W, H]: {b, d, c, w, h}\")\n",
    "\n",
    "        # TODO: make changes to the shape of the input such that it is compatible with ResNet\n",
    "        x = x.view(-1, c, w, h)\n",
    "        y1 = self.backbone(x)\n",
    "        print(f\"ResNet output shape [B, C, W, H]: {y1.shape}\")\n",
    "\n",
    "        # TODO: take output features from the backbone ResNet and make it compatible with Conv3D format\n",
    "        _, new_c, new_w, new_h = y1.shape\n",
    "        y1 = y1.view(b, d, new_c, new_w, new_h)\n",
    "        y1 = y1.permute(0, 2, 1, 3, 4)\n",
    "        y1 = self.relu(y1)\n",
    "        print(f\"ResNet output shape [B, C, D, W, H]: {y1.shape}\")\n",
    "\n",
    "        # TODO: Downsampling\n",
    "        y2 = self.relu(self.conv2(self.relu(self.conv1(y1))))\n",
    "        print(f\"Downsampled output shape [B, C, D, W, H]: {y2.shape}\")\n",
    "\n",
    "        # TODO: Upsampling\n",
    "        y3 = self.relu(self.conv_transpose2(self.relu(self.conv_transpose1(y2))))\n",
    "        print(f\"Upsampled output shape [B, C, D, W, H]: {y3.shape}\")\n",
    "\n",
    "        # TODO: final segmentation head\n",
    "        y4 = torch.sigmoid(self.conv3(y3))\n",
    "        y4 = y4.permute(0, 2, 1, 3, 4)\n",
    "        print(f\"Output shape [B, D, C, W, H]: {y4.shape}\")\n",
    "\n",
    "        return y4"
   ]
  },
  {
   "cell_type": "code",
   "execution_count": 4,
   "metadata": {},
   "outputs": [],
   "source": [
    "# TODO: define Dice loss\n",
    "def compute_dice_loss(pred, labels, eps=1e-8):\n",
    "    \"\"\"\n",
    "    Args\n",
    "    pred: [B, D, 1, W, H]\n",
    "    labels: [B, D, 1, W, H]\n",
    "\n",
    "    Returns\n",
    "    dice_loss: [B, D, 1, W, H]\n",
    "    \"\"\"\n",
    "    pred_flat = pred.view(-1)\n",
    "    labels_flat = labels.view(-1)\n",
    "    intersection = (pred_flat * labels_flat).sum()\n",
    "    union = pred_flat.sum() + labels_flat.sum()\n",
    "    dice = (2.0 * intersection + eps) / (union + eps)\n",
    "    return 1 - dice"
   ]
  },
  {
   "cell_type": "code",
   "execution_count": 5,
   "metadata": {},
   "outputs": [
    {
     "name": "stderr",
     "output_type": "stream",
     "text": [
      "/opt/homebrew/lib/python3.10/site-packages/torchvision/models/_utils.py:208: UserWarning: The parameter 'pretrained' is deprecated since 0.13 and may be removed in the future, please use 'weights' instead.\n",
      "  warnings.warn(\n",
      "/opt/homebrew/lib/python3.10/site-packages/torchvision/models/_utils.py:223: UserWarning: Arguments other than a weight enum or `None` for 'weights' are deprecated since 0.13 and may be removed in the future. The current behavior is equivalent to passing `weights=ResNet18_Weights.IMAGENET1K_V1`. You can also use `weights=ResNet18_Weights.DEFAULT` to get the most up-to-date weights.\n",
      "  warnings.warn(msg)\n"
     ]
    }
   ],
   "source": [
    "# Define resnet as the backbone removing the last two layers\n",
    "resnet_model = torchvision.models.resnet18(pretrained=True)\n",
    "resnet_model = nn.Sequential(*list(resnet_model.children())[:-2])\n",
    "\n",
    "model = MedCNN(backbone=resnet_model)\n",
    "\n",
    "optimizer = optim.Adam(model.parameters(), lr=0.01)"
   ]
  },
  {
   "cell_type": "code",
   "execution_count": 6,
   "metadata": {},
   "outputs": [
    {
     "name": "stdout",
     "output_type": "stream",
     "text": [
      "Input shape [B, D, C, W, H]: (100, 10, 3, 256, 256)\n",
      "ResNet output shape [B, C, W, H]: torch.Size([1000, 512, 8, 8])\n",
      "ResNet output shape [B, C, D, W, H]: torch.Size([100, 512, 10, 8, 8])\n",
      "Downsampled output shape [B, C, D, W, H]: torch.Size([100, 128, 10, 8, 8])\n",
      "Upsampled output shape [B, C, D, W, H]: torch.Size([100, 16, 10, 256, 256])\n",
      "Output shape [B, D, C, W, H]: torch.Size([100, 10, 1, 256, 256])\n",
      "Loss at epoch 0: 0.48381954431533813\n",
      "Input shape [B, D, C, W, H]: (100, 10, 3, 256, 256)\n",
      "ResNet output shape [B, C, W, H]: torch.Size([1000, 512, 8, 8])\n",
      "ResNet output shape [B, C, D, W, H]: torch.Size([100, 512, 10, 8, 8])\n",
      "Downsampled output shape [B, C, D, W, H]: torch.Size([100, 128, 10, 8, 8])\n",
      "Upsampled output shape [B, C, D, W, H]: torch.Size([100, 16, 10, 256, 256])\n",
      "Output shape [B, D, C, W, H]: torch.Size([100, 10, 1, 256, 256])\n",
      "Loss at epoch 1: 0.3333361744880676\n",
      "Input shape [B, D, C, W, H]: (100, 10, 3, 256, 256)\n",
      "ResNet output shape [B, C, W, H]: torch.Size([1000, 512, 8, 8])\n",
      "ResNet output shape [B, C, D, W, H]: torch.Size([100, 512, 10, 8, 8])\n",
      "Downsampled output shape [B, C, D, W, H]: torch.Size([100, 128, 10, 8, 8])\n",
      "Upsampled output shape [B, C, D, W, H]: torch.Size([100, 16, 10, 256, 256])\n",
      "Output shape [B, D, C, W, H]: torch.Size([100, 10, 1, 256, 256])\n",
      "Loss at epoch 2: 0.3333361744880676\n",
      "Input shape [B, D, C, W, H]: (100, 10, 3, 256, 256)\n",
      "ResNet output shape [B, C, W, H]: torch.Size([1000, 512, 8, 8])\n",
      "ResNet output shape [B, C, D, W, H]: torch.Size([100, 512, 10, 8, 8])\n",
      "Downsampled output shape [B, C, D, W, H]: torch.Size([100, 128, 10, 8, 8])\n",
      "Upsampled output shape [B, C, D, W, H]: torch.Size([100, 16, 10, 256, 256])\n",
      "Output shape [B, D, C, W, H]: torch.Size([100, 10, 1, 256, 256])\n",
      "Loss at epoch 3: 0.3333361744880676\n",
      "Input shape [B, D, C, W, H]: (100, 10, 3, 256, 256)\n",
      "ResNet output shape [B, C, W, H]: torch.Size([1000, 512, 8, 8])\n",
      "ResNet output shape [B, C, D, W, H]: torch.Size([100, 512, 10, 8, 8])\n",
      "Downsampled output shape [B, C, D, W, H]: torch.Size([100, 128, 10, 8, 8])\n",
      "Upsampled output shape [B, C, D, W, H]: torch.Size([100, 16, 10, 256, 256])\n",
      "Output shape [B, D, C, W, H]: torch.Size([100, 10, 1, 256, 256])\n",
      "Loss at epoch 4: 0.3333361744880676\n"
     ]
    }
   ],
   "source": [
    "epochs = 5\n",
    "for epoch in range(epochs):\n",
    "    optimizer.zero_grad()\n",
    "    pred = model(ct_images)\n",
    "    loss = compute_dice_loss(pred, segmentation_masks)\n",
    "    loss.backward()\n",
    "    optimizer.step()\n",
    "    print(f\"Loss at epoch {epoch}: {loss}\")"
   ]
  },
  {
   "cell_type": "code",
   "execution_count": null,
   "metadata": {},
   "outputs": [],
   "source": []
  },
  {
   "cell_type": "code",
   "execution_count": null,
   "metadata": {},
   "outputs": [],
   "source": []
  }
 ],
 "metadata": {
  "kernelspec": {
   "display_name": "Python 3",
   "language": "python",
   "name": "python3"
  },
  "language_info": {
   "codemirror_mode": {
    "name": "ipython",
    "version": 3
   },
   "file_extension": ".py",
   "mimetype": "text/x-python",
   "name": "python",
   "nbconvert_exporter": "python",
   "pygments_lexer": "ipython3",
   "version": "3.10.12"
  }
 },
 "nbformat": 4,
 "nbformat_minor": 2
}
