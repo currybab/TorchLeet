{
 "cells": [
  {
   "cell_type": "markdown",
   "metadata": {},
   "source": [
    "# Problem: Implement parameter initialization strategies for a CNN model in Pytorch\n",
    "\n",
    "### Problem Statement\n",
    "\n",
    "You are tasked with employing and evaluating a CNN model\\'s parameter initialization strategies in Pytorch.\n",
    "Your goal is to initialize the weights and biases of a vanilla CNN model provided in the problem statement and comment on the implications of each strategy.\n",
    "\n",
    "### Requirements\n",
    "\n",
    "1. **Initialize** weights and biases in the following ways:\n",
    "   - **Zero Initialization**: set the parameters to zero\n",
    "   - **Random Initialization**: sets model parameters to random values drawn from a normal distribution\n",
    "   - **Xavier Initialization** sets them to random values from a normal distribution with **mean=0 and variance=1\\/n**\n",
    "   - **Kaiming He Initialization** initializes to random values from a normal distribution with **mean=0 and variance=2\\/n**\n",
    "2. Train and compute accuracy for each strategy\n",
    "\n",
    "### Constraints\n",
    "\n",
    "- Use the given CNN model and the training and testing helper functions for accuracy computations.\n",
    "- Ensure the model is compatible with the CIFAR-10 dataset, which contains 10 classes.\n",
    "\n",
    "<details>\n",
    "  <summary>💡 Hint</summary>\n",
    "  - Use `torch.nn.init` for weight initialization\n",
    "  <br>\n",
    "  - Resources to read: [All you need is a good init](https://arxiv.org/pdf/1511.06422)\n",
    "</details>\n"
   ]
  },
  {
   "cell_type": "code",
   "execution_count": 1,
   "metadata": {},
   "outputs": [
    {
     "name": "stderr",
     "output_type": "stream",
     "text": [
      "/opt/homebrew/lib/python3.10/site-packages/tqdm/auto.py:22: TqdmWarning: IProgress not found. Please update jupyter and ipywidgets. See https://ipywidgets.readthedocs.io/en/stable/user_install.html\n",
      "  from .autonotebook import tqdm as notebook_tqdm\n"
     ]
    }
   ],
   "source": [
    "import torch\n",
    "import torch.nn as nn\n",
    "import torch.optim as optim\n",
    "import torchvision\n",
    "import torchvision.transforms as transforms"
   ]
  },
  {
   "cell_type": "code",
   "execution_count": 2,
   "metadata": {},
   "outputs": [
    {
     "name": "stdout",
     "output_type": "stream",
     "text": [
      "Downloading https://www.cs.toronto.edu/~kriz/cifar-10-python.tar.gz to ./data/cifar-10-python.tar.gz\n"
     ]
    },
    {
     "name": "stderr",
     "output_type": "stream",
     "text": [
      "100%|██████████| 170498071/170498071 [00:37<00:00, 4554780.54it/s] \n"
     ]
    },
    {
     "name": "stdout",
     "output_type": "stream",
     "text": [
      "Extracting ./data/cifar-10-python.tar.gz to ./data\n",
      "Files already downloaded and verified\n"
     ]
    }
   ],
   "source": [
    "transform = transforms.Compose(\n",
    "    [transforms.ToTensor(), transforms.Normalize((0.5, 0.5, 0.5), (0.5, 0.5, 0.5))]\n",
    ")\n",
    "\n",
    "train_dataset = torchvision.datasets.CIFAR10(\n",
    "    root=\"./data\", train=True, download=True, transform=transform\n",
    ")\n",
    "train_loader = torch.utils.data.DataLoader(train_dataset, batch_size=32, shuffle=True)\n",
    "\n",
    "test_dataset = torchvision.datasets.CIFAR10(\n",
    "    root=\"./data\", train=False, download=True, transform=transform\n",
    ")\n",
    "test_loader = torch.utils.data.DataLoader(test_dataset, batch_size=32, shuffle=True)\n"
   ]
  },
  {
   "cell_type": "code",
   "execution_count": 3,
   "metadata": {},
   "outputs": [],
   "source": [
    "def train_test_loop(model, train_loader, test_loader, epochs=10):\n",
    "    model.train()\n",
    "    criterion = nn.CrossEntropyLoss()\n",
    "    optimizer = optim.Adam(model.parameters(), lr=0.001)\n",
    "\n",
    "    for epoch in range(epochs):\n",
    "        for image, label in train_loader:\n",
    "            pred = model(image)\n",
    "            loss = criterion(pred, label)\n",
    "\n",
    "            optimizer.zero_grad()\n",
    "            loss.backward()\n",
    "            optimizer.step()\n",
    "        print(f\"Training loss at epoch {epoch} = {loss.item()}\")\n",
    "\n",
    "    model.eval()\n",
    "    correct = 0\n",
    "    total = 0\n",
    "    with torch.no_grad():\n",
    "        for image_test, label_test in test_loader:\n",
    "            pred_test = model(image_test)\n",
    "            _, pred_test_vals = torch.max(pred_test, dim=1)\n",
    "            total += label_test.size(0)\n",
    "            correct += (pred_test_vals == label_test).sum().item()\n",
    "    print(f\"Test Accuracy = {(correct * 100) / total}\")"
   ]
  },
  {
   "cell_type": "code",
   "execution_count": 4,
   "metadata": {},
   "outputs": [],
   "source": [
    "class VanillaCNNModel(nn.Module):\n",
    "    def __init__(self):\n",
    "        super().__init__()\n",
    "        self.conv1 = nn.Conv2d(3, 32, kernel_size=3, stride=1, padding=1)\n",
    "        self.conv2 = nn.Conv2d(32, 64, kernel_size=3, stride=1, padding=1)\n",
    "        self.pool = nn.MaxPool2d(kernel_size=2, stride=2)\n",
    "        self.fc1 = nn.Linear(64 * 16 * 16, 128)\n",
    "        self.fc2 = nn.Linear(128, 10)\n",
    "        self.relu = nn.ReLU()\n",
    "\n",
    "    def forward(self, x):\n",
    "        x = self.relu(self.conv1(x))\n",
    "        x = self.pool(self.relu(self.conv2(x)))\n",
    "        x = x.view(x.size(0), -1)\n",
    "        x = self.relu(self.fc1(x))\n",
    "        x = self.fc2(x)\n",
    "        return x"
   ]
  },
  {
   "cell_type": "code",
   "execution_count": 9,
   "metadata": {},
   "outputs": [],
   "source": [
    "def config_init(init_type=\"kaiming\"):\n",
    "    # TODO: Add Kaiming initialization according to a CNN or a Linear layer\n",
    "    def kaiming_init(m):\n",
    "        if isinstance(m, (nn.Linear, nn.Conv2d)):\n",
    "            nn.init.kaiming_normal_(m.weight)\n",
    "            if m.bias is not None:\n",
    "                nn.init.zeros_(m.bias)\n",
    "\n",
    "    # TODO: Implement Xavier initialization\n",
    "    def xavier_init(m):\n",
    "        if isinstance(m, (nn.Linear, nn.Conv2d)):\n",
    "            nn.init.xavier_normal_(m.weight)\n",
    "            if m.bias is not None:\n",
    "                nn.init.zeros_(m.bias)\n",
    "\n",
    "    # TODO: Initialize weights and biases to zero\n",
    "    def zeros_init(m):\n",
    "        if isinstance(m, (nn.Linear, nn.Conv2d)):\n",
    "            nn.init.zeros_(m.weight)\n",
    "            nn.init.zeros_(m.bias)\n",
    "\n",
    "    # TODO: Initialize weights and biases from a normal distribution\n",
    "    def random_init(m):\n",
    "        if isinstance(m, (nn.Linear, nn.Conv2d)):\n",
    "            nn.init.normal_(m.weight)\n",
    "            nn.init.normal_(m.bias)\n",
    "\n",
    "    initializer_dict = {\n",
    "        \"kaiming\": kaiming_init,\n",
    "        \"xavier\": xavier_init,\n",
    "        \"zeros\": zeros_init,\n",
    "        \"random\": random_init,\n",
    "    }\n",
    "\n",
    "    return initializer_dict.get(init_type)"
   ]
  },
  {
   "cell_type": "code",
   "execution_count": 10,
   "metadata": {},
   "outputs": [
    {
     "name": "stdout",
     "output_type": "stream",
     "text": [
      "_________Vanilla_______________________\n",
      "Training loss at epoch 0 = 1.0964444875717163\n",
      "Training loss at epoch 1 = 0.6543671488761902\n",
      "Training loss at epoch 2 = 0.6886001229286194\n",
      "Training loss at epoch 3 = 0.153495192527771\n",
      "Training loss at epoch 4 = 0.5994948148727417\n",
      "Training loss at epoch 5 = 0.16613924503326416\n",
      "Training loss at epoch 6 = 0.14586687088012695\n",
      "Training loss at epoch 7 = 0.23620009422302246\n",
      "Training loss at epoch 8 = 0.1030372679233551\n",
      "Training loss at epoch 9 = 0.08064061403274536\n",
      "Test Accuracy = 67.84\n",
      "_________Kaiming_______________________\n",
      "Training loss at epoch 0 = 0.8084465265274048\n",
      "Training loss at epoch 1 = 0.48890042304992676\n",
      "Training loss at epoch 2 = 0.9989274144172668\n",
      "Training loss at epoch 3 = 0.801313579082489\n",
      "Training loss at epoch 4 = 0.6529940962791443\n",
      "Training loss at epoch 5 = 0.19916988909244537\n",
      "Training loss at epoch 6 = 0.03064189851284027\n",
      "Training loss at epoch 7 = 0.20245900750160217\n",
      "Training loss at epoch 8 = 0.04117992892861366\n",
      "Training loss at epoch 9 = 0.12980519235134125\n",
      "Test Accuracy = 65.3\n",
      "_________Xavier_______________________\n",
      "Training loss at epoch 0 = 0.6194899678230286\n",
      "Training loss at epoch 1 = 0.6512628793716431\n",
      "Training loss at epoch 2 = 0.49401524662971497\n",
      "Training loss at epoch 3 = 0.6743529438972473\n",
      "Training loss at epoch 4 = 0.36771494150161743\n",
      "Training loss at epoch 5 = 0.09085605293512344\n",
      "Training loss at epoch 6 = 0.048364121466875076\n",
      "Training loss at epoch 7 = 0.0014174476964399219\n",
      "Training loss at epoch 8 = 0.5125650763511658\n",
      "Training loss at epoch 9 = 0.019999824464321136\n",
      "Test Accuracy = 67.56\n",
      "_________Zeros_______________________\n",
      "Training loss at epoch 0 = 2.300595998764038\n",
      "Training loss at epoch 1 = 2.302769660949707\n",
      "Training loss at epoch 2 = 2.305936574935913\n",
      "Training loss at epoch 3 = 2.3040919303894043\n",
      "Training loss at epoch 4 = 2.3023934364318848\n",
      "Training loss at epoch 5 = 2.299901008605957\n",
      "Training loss at epoch 6 = 2.30429744720459\n",
      "Training loss at epoch 7 = 2.299893379211426\n",
      "Training loss at epoch 8 = 2.300687551498413\n",
      "Training loss at epoch 9 = 2.3039743900299072\n",
      "Test Accuracy = 10.0\n",
      "_________Random_______________________\n",
      "Training loss at epoch 0 = 2.315295457839966\n",
      "Training loss at epoch 1 = 2.300598382949829\n",
      "Training loss at epoch 2 = 2.3002073764801025\n",
      "Training loss at epoch 3 = 2.304016351699829\n",
      "Training loss at epoch 4 = 2.299001455307007\n",
      "Training loss at epoch 5 = 2.301997661590576\n",
      "Training loss at epoch 6 = 2.306220293045044\n",
      "Training loss at epoch 7 = 2.2946829795837402\n",
      "Training loss at epoch 8 = 2.302978277206421\n",
      "Training loss at epoch 9 = 2.3014352321624756\n",
      "Test Accuracy = 10.0\n"
     ]
    }
   ],
   "source": [
    "for name, model in zip(\n",
    "    [\"Vanilla\", \"Kaiming\", \"Xavier\", \"Zeros\", \"Random\"],\n",
    "    [\n",
    "        VanillaCNNModel(),\n",
    "        VanillaCNNModel().apply(config_init(\"kaiming\")),\n",
    "        VanillaCNNModel().apply(config_init(\"xavier\")),\n",
    "        VanillaCNNModel().apply(config_init(\"zeros\")),\n",
    "        VanillaCNNModel().apply(config_init(\"random\")),\n",
    "    ],\n",
    "):\n",
    "    print(f\"_________{name}_______________________\")\n",
    "    train_test_loop(model, train_loader, test_loader)"
   ]
  },
  {
   "cell_type": "code",
   "execution_count": null,
   "metadata": {},
   "outputs": [],
   "source": []
  }
 ],
 "metadata": {
  "kernelspec": {
   "display_name": "Python 3",
   "language": "python",
   "name": "python3"
  },
  "language_info": {
   "codemirror_mode": {
    "name": "ipython",
    "version": 3
   },
   "file_extension": ".py",
   "mimetype": "text/x-python",
   "name": "python",
   "nbconvert_exporter": "python",
   "pygments_lexer": "ipython3",
   "version": "3.10.12"
  }
 },
 "nbformat": 4,
 "nbformat_minor": 2
}
